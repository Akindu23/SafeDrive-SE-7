{
 "cells": [
  {
   "cell_type": "code",
   "execution_count": 18,
   "metadata": {
    "collapsed": true
   },
   "outputs": [],
   "source": [
    "import numpy as np\n",
    "import os\n",
    "import cv2\n",
    "import matplotlib.pyplot as plt\n",
    "\n",
    "%matplotlib inline"
   ]
  },
  {
   "cell_type": "code",
   "execution_count": 19,
   "outputs": [],
   "source": [
    "labels = os.listdir('../NewDataset/train')"
   ],
   "metadata": {
    "collapsed": false
   }
  },
  {
   "cell_type": "code",
   "execution_count": 20,
   "outputs": [
    {
     "data": {
      "text/plain": "['closed_eyes', 'no_yawn', 'open_eyes', 'yawn']"
     },
     "execution_count": 20,
     "metadata": {},
     "output_type": "execute_result"
    }
   ],
   "source": [
    "labels"
   ],
   "metadata": {
    "collapsed": false
   }
  },
  {
   "cell_type": "code",
   "execution_count": 21,
   "outputs": [],
   "source": [
    "def face_for_yawn():\n",
    "    yawn_data = []\n",
    "    IMAGE_SIZE = 145\n",
    "    yawn_labels = [\"yawn\", \"no_yawn\"]\n",
    "\n",
    "    for yawn_label in yawn_labels:\n",
    "        path_link = os.path.join(\"../NewDataset/train\", yawn_label)\n",
    "        class_num_yawn = yawn_labels.index(yawn_label)\n",
    "        print(class_num_yawn)\n",
    "\n",
    "        for image in os.listdir(path_link):\n",
    "            image_array = cv2.imread(os.path.join(path_link, image), cv2.IMREAD_COLOR)\n",
    "            face_cascade = cv2.CascadeClassifier(cv2.data.haarcascades + 'haarcascade_frontalface_default.xml')\n",
    "            faces = face_cascade.detectMultiScale(image_array, 1.3, 5)\n",
    "\n",
    "            for (x, y, w, h) in faces:\n",
    "                img = cv2.rectangle(image_array, (x, y), (x+w, y+h), (0, 255, 0), 2)\n",
    "                roi_color = img[y:y+h, x:x+w]\n",
    "                resized_array = cv2.resize(roi_color, (IMAGE_SIZE, IMAGE_SIZE))\n",
    "                yawn_data.append([resized_array, class_num_yawn])\n",
    "\n",
    "    return yawn_data"
   ],
   "metadata": {
    "collapsed": false
   }
  },
  {
   "cell_type": "code",
   "execution_count": 22,
   "outputs": [],
   "source": [
    "def face_for_eyes():\n",
    "    eye_data = []\n",
    "    IMAGE_SIZE = 145\n",
    "    eye_labels = ['closed_eyes', 'open_eyes']\n",
    "\n",
    "    for eye_label in eye_labels:\n",
    "        path = os.path.join(\"../NewDataset/train\", eye_label)\n",
    "        class_num_eye = eye_labels.index(eye_label)\n",
    "        class_num_eye +=2\n",
    "        print(class_num_eye)\n",
    "\n",
    "        for img in os.listdir(path):\n",
    "            try:\n",
    "                img_array = cv2.imread(os.path.join(path, img), cv2.IMREAD_COLOR)\n",
    "                resized_array = cv2.resize(img_array, (IMAGE_SIZE, IMAGE_SIZE))\n",
    "                eye_data.append([resized_array, class_num_eye])\n",
    "\n",
    "            except Exception as e:\n",
    "                print(e)\n",
    "\n",
    "    return eye_data"
   ],
   "metadata": {
    "collapsed": false
   }
  },
  {
   "cell_type": "code",
   "execution_count": 23,
   "outputs": [],
   "source": [
    "def append_data():\n",
    "    yawn_no_yawn = face_for_yawn()\n",
    "    eye_open_closed = face_for_eyes()\n",
    "    yawn_no_yawn.extend(eye_open_closed)\n",
    "    return np.array(yawn_no_yawn, dtype=object)"
   ],
   "metadata": {
    "collapsed": false
   }
  },
  {
   "cell_type": "code",
   "execution_count": 24,
   "outputs": [
    {
     "name": "stdout",
     "output_type": "stream",
     "text": [
      "0\n",
      "1\n",
      "2\n",
      "3\n"
     ]
    }
   ],
   "source": [
    "label_data = append_data()"
   ],
   "metadata": {
    "collapsed": false
   }
  },
  {
   "cell_type": "code",
   "execution_count": 25,
   "outputs": [],
   "source": [
    "X = []\n",
    "y = []\n",
    "for features, label in label_data:\n",
    "    X.append(features)\n",
    "    y.append(label)"
   ],
   "metadata": {
    "collapsed": false
   }
  },
  {
   "cell_type": "code",
   "execution_count": 26,
   "outputs": [],
   "source": [
    "X = np.array(X)\n",
    "X = X.reshape(-1, 145, 145, 3)"
   ],
   "metadata": {
    "collapsed": false
   }
  },
  {
   "cell_type": "code",
   "execution_count": 27,
   "outputs": [],
   "source": [
    "from sklearn.preprocessing import LabelBinarizer\n",
    "label_bin = LabelBinarizer()\n",
    "y = label_bin.fit_transform(y)"
   ],
   "metadata": {
    "collapsed": false
   }
  },
  {
   "cell_type": "code",
   "execution_count": 28,
   "outputs": [],
   "source": [
    "y = np.array(y)"
   ],
   "metadata": {
    "collapsed": false
   }
  },
  {
   "cell_type": "code",
   "execution_count": 29,
   "outputs": [],
   "source": [
    "from sklearn.model_selection import train_test_split\n",
    "seed = 42\n",
    "test_size = 0.30\n",
    "X_train, X_test, y_train, y_test = train_test_split(X, y, random_state = seed, test_size = test_size)"
   ],
   "metadata": {
    "collapsed": false
   }
  },
  {
   "cell_type": "code",
   "execution_count": 30,
   "outputs": [
    {
     "data": {
      "text/plain": "578"
     },
     "execution_count": 30,
     "metadata": {},
     "output_type": "execute_result"
    }
   ],
   "source": [
    "len(X_test)"
   ],
   "metadata": {
    "collapsed": false
   }
  },
  {
   "cell_type": "code",
   "execution_count": 31,
   "outputs": [],
   "source": [
    "from keras.layers import Dense, Flatten, Conv2D, MaxPooling2D, Dropout\n",
    "from keras.models import Sequential\n",
    "from keras.preprocessing.image import ImageDataGenerator"
   ],
   "metadata": {
    "collapsed": false
   }
  },
  {
   "cell_type": "code",
   "execution_count": 32,
   "outputs": [],
   "source": [
    "train_generator = ImageDataGenerator(rescale = 1/255, zoom_range = 0.2, horizontal_flip = True, rotation_range = 30)\n",
    "test_generator = ImageDataGenerator(rescale = 1/255)\n",
    "\n",
    "train_generator = train_generator.flow(np.array(X_train), y_train, shuffle = False)\n",
    "test_generator = test_generator.flow(np.array(X_test), y_test, shuffle = False)"
   ],
   "metadata": {
    "collapsed": false
   }
  },
  {
   "cell_type": "code",
   "execution_count": 33,
   "outputs": [
    {
     "name": "stdout",
     "output_type": "stream",
     "text": [
      "Model: \"sequential_1\"\n",
      "_________________________________________________________________\n",
      " Layer (type)                Output Shape              Param #   \n",
      "=================================================================\n",
      " conv2d_4 (Conv2D)           (None, 143, 143, 256)     7168      \n",
      "                                                                 \n",
      " max_pooling2d_4 (MaxPooling  (None, 71, 71, 256)      0         \n",
      " 2D)                                                             \n",
      "                                                                 \n",
      " conv2d_5 (Conv2D)           (None, 69, 69, 128)       295040    \n",
      "                                                                 \n",
      " max_pooling2d_5 (MaxPooling  (None, 34, 34, 128)      0         \n",
      " 2D)                                                             \n",
      "                                                                 \n",
      " conv2d_6 (Conv2D)           (None, 32, 32, 64)        73792     \n",
      "                                                                 \n",
      " max_pooling2d_6 (MaxPooling  (None, 16, 16, 64)       0         \n",
      " 2D)                                                             \n",
      "                                                                 \n",
      " conv2d_7 (Conv2D)           (None, 14, 14, 32)        18464     \n",
      "                                                                 \n",
      " max_pooling2d_7 (MaxPooling  (None, 7, 7, 32)         0         \n",
      " 2D)                                                             \n",
      "                                                                 \n",
      " flatten_1 (Flatten)         (None, 1568)              0         \n",
      "                                                                 \n",
      " dropout_1 (Dropout)         (None, 1568)              0         \n",
      "                                                                 \n",
      " dense_2 (Dense)             (None, 64)                100416    \n",
      "                                                                 \n",
      " dense_3 (Dense)             (None, 4)                 260       \n",
      "                                                                 \n",
      "=================================================================\n",
      "Total params: 495,140\n",
      "Trainable params: 495,140\n",
      "Non-trainable params: 0\n",
      "_________________________________________________________________\n"
     ]
    }
   ],
   "source": [
    "model = Sequential()\n",
    "\n",
    "model.add(Conv2D(256, (3, 3), activation = \"relu\", input_shape = X_train.shape[1:]))\n",
    "model.add(MaxPooling2D(2, 2))\n",
    "\n",
    "model.add(Conv2D(128, (3, 3), activation = \"relu\"))\n",
    "model.add(MaxPooling2D(2, 2))\n",
    "\n",
    "model.add(Conv2D(64, (3, 3), activation = \"relu\"))\n",
    "model.add(MaxPooling2D(2, 2))\n",
    "\n",
    "model.add(Conv2D(32, (3, 3), activation = \"relu\"))\n",
    "model.add(MaxPooling2D(2, 2))\n",
    "\n",
    "model.add(Flatten())\n",
    "model.add(Dropout(0.5))\n",
    "\n",
    "model.add(Dense(64, activation = \"relu\"))\n",
    "model.add(Dense(4, activation = \"softmax\"))\n",
    "\n",
    "model.compile(loss = \"categorical_crossentropy\", metrics = [\"accuracy\"], optimizer = \"adam\")\n",
    "\n",
    "model.summary()"
   ],
   "metadata": {
    "collapsed": false
   }
  },
  {
   "cell_type": "code",
   "execution_count": 34,
   "outputs": [
    {
     "name": "stdout",
     "output_type": "stream",
     "text": [
      "Epoch 1/50\n",
      "43/43 [==============================] - 8s 174ms/step - loss: 1.2847 - accuracy: 0.4298 - val_loss: 1.1452 - val_accuracy: 0.5415\n",
      "Epoch 2/50\n",
      "43/43 [==============================] - 7s 167ms/step - loss: 0.6637 - accuracy: 0.7350 - val_loss: 0.4428 - val_accuracy: 0.8131\n",
      "Epoch 3/50\n",
      "43/43 [==============================] - 7s 167ms/step - loss: 0.4339 - accuracy: 0.8278 - val_loss: 0.3131 - val_accuracy: 0.8858\n",
      "Epoch 4/50\n",
      "43/43 [==============================] - 7s 167ms/step - loss: 0.3537 - accuracy: 0.8411 - val_loss: 0.3012 - val_accuracy: 0.8824\n",
      "Epoch 5/50\n",
      "43/43 [==============================] - 7s 167ms/step - loss: 0.3270 - accuracy: 0.8671 - val_loss: 0.2678 - val_accuracy: 0.8979\n",
      "Epoch 6/50\n",
      "43/43 [==============================] - 7s 166ms/step - loss: 0.2873 - accuracy: 0.8834 - val_loss: 0.2499 - val_accuracy: 0.8841\n",
      "Epoch 7/50\n",
      "43/43 [==============================] - 7s 167ms/step - loss: 0.2845 - accuracy: 0.8708 - val_loss: 0.2384 - val_accuracy: 0.9031\n",
      "Epoch 8/50\n",
      "43/43 [==============================] - 7s 166ms/step - loss: 0.2670 - accuracy: 0.8938 - val_loss: 0.2622 - val_accuracy: 0.8772\n",
      "Epoch 9/50\n",
      "43/43 [==============================] - 7s 166ms/step - loss: 0.2781 - accuracy: 0.8820 - val_loss: 0.2212 - val_accuracy: 0.9014\n",
      "Epoch 10/50\n",
      "43/43 [==============================] - 7s 168ms/step - loss: 0.2340 - accuracy: 0.9065 - val_loss: 0.1971 - val_accuracy: 0.9291\n",
      "Epoch 11/50\n",
      "43/43 [==============================] - 7s 167ms/step - loss: 0.2129 - accuracy: 0.9035 - val_loss: 0.1912 - val_accuracy: 0.9135\n",
      "Epoch 12/50\n",
      "43/43 [==============================] - 7s 168ms/step - loss: 0.2280 - accuracy: 0.9169 - val_loss: 0.1874 - val_accuracy: 0.9308\n",
      "Epoch 13/50\n",
      "43/43 [==============================] - 7s 167ms/step - loss: 0.2045 - accuracy: 0.9198 - val_loss: 0.1836 - val_accuracy: 0.9170\n",
      "Epoch 14/50\n",
      "43/43 [==============================] - 7s 167ms/step - loss: 0.1858 - accuracy: 0.9228 - val_loss: 0.1883 - val_accuracy: 0.9256\n",
      "Epoch 15/50\n",
      "43/43 [==============================] - 7s 167ms/step - loss: 0.1957 - accuracy: 0.9176 - val_loss: 0.2480 - val_accuracy: 0.9100\n",
      "Epoch 16/50\n",
      "43/43 [==============================] - 7s 167ms/step - loss: 0.2243 - accuracy: 0.9050 - val_loss: 0.1688 - val_accuracy: 0.9308\n",
      "Epoch 17/50\n",
      "43/43 [==============================] - 7s 168ms/step - loss: 0.1784 - accuracy: 0.9324 - val_loss: 0.1642 - val_accuracy: 0.9412\n",
      "Epoch 18/50\n",
      "43/43 [==============================] - 7s 167ms/step - loss: 0.1662 - accuracy: 0.9414 - val_loss: 0.1520 - val_accuracy: 0.9464\n",
      "Epoch 19/50\n",
      "43/43 [==============================] - 7s 167ms/step - loss: 0.1931 - accuracy: 0.9250 - val_loss: 0.1603 - val_accuracy: 0.9343\n",
      "Epoch 20/50\n",
      "43/43 [==============================] - 7s 167ms/step - loss: 0.1767 - accuracy: 0.9339 - val_loss: 0.1483 - val_accuracy: 0.9412\n",
      "Epoch 21/50\n",
      "43/43 [==============================] - 7s 167ms/step - loss: 0.1358 - accuracy: 0.9443 - val_loss: 0.1743 - val_accuracy: 0.9394\n",
      "Epoch 22/50\n",
      "43/43 [==============================] - 7s 167ms/step - loss: 0.1711 - accuracy: 0.9317 - val_loss: 0.1524 - val_accuracy: 0.9360\n",
      "Epoch 23/50\n",
      "43/43 [==============================] - 7s 167ms/step - loss: 0.1360 - accuracy: 0.9488 - val_loss: 0.1659 - val_accuracy: 0.9481\n",
      "Epoch 24/50\n",
      "43/43 [==============================] - 7s 167ms/step - loss: 0.1549 - accuracy: 0.9362 - val_loss: 0.2306 - val_accuracy: 0.9256\n",
      "Epoch 25/50\n",
      "43/43 [==============================] - 7s 167ms/step - loss: 0.1614 - accuracy: 0.9362 - val_loss: 0.1505 - val_accuracy: 0.9429\n",
      "Epoch 26/50\n",
      "43/43 [==============================] - 7s 167ms/step - loss: 0.1554 - accuracy: 0.9369 - val_loss: 0.1620 - val_accuracy: 0.9394\n",
      "Epoch 27/50\n",
      "43/43 [==============================] - 7s 168ms/step - loss: 0.1304 - accuracy: 0.9510 - val_loss: 0.1419 - val_accuracy: 0.9446\n",
      "Epoch 28/50\n",
      "43/43 [==============================] - 7s 167ms/step - loss: 0.1678 - accuracy: 0.9443 - val_loss: 0.1350 - val_accuracy: 0.9498\n",
      "Epoch 29/50\n",
      "43/43 [==============================] - 7s 167ms/step - loss: 0.1497 - accuracy: 0.9414 - val_loss: 0.1404 - val_accuracy: 0.9481\n",
      "Epoch 30/50\n",
      "43/43 [==============================] - 7s 167ms/step - loss: 0.1346 - accuracy: 0.9428 - val_loss: 0.1326 - val_accuracy: 0.9533\n",
      "Epoch 31/50\n",
      "43/43 [==============================] - 7s 167ms/step - loss: 0.1192 - accuracy: 0.9503 - val_loss: 0.1252 - val_accuracy: 0.9498\n",
      "Epoch 32/50\n",
      "43/43 [==============================] - 7s 167ms/step - loss: 0.1256 - accuracy: 0.9488 - val_loss: 0.1511 - val_accuracy: 0.9464\n",
      "Epoch 33/50\n",
      "43/43 [==============================] - 7s 167ms/step - loss: 0.1172 - accuracy: 0.9473 - val_loss: 0.1374 - val_accuracy: 0.9464\n",
      "Epoch 34/50\n",
      "43/43 [==============================] - 7s 167ms/step - loss: 0.1587 - accuracy: 0.9354 - val_loss: 0.1175 - val_accuracy: 0.9481\n",
      "Epoch 35/50\n",
      "43/43 [==============================] - 7s 167ms/step - loss: 0.1224 - accuracy: 0.9569 - val_loss: 0.1458 - val_accuracy: 0.9412\n",
      "Epoch 36/50\n",
      "43/43 [==============================] - 7s 167ms/step - loss: 0.1117 - accuracy: 0.9532 - val_loss: 0.1517 - val_accuracy: 0.9567\n",
      "Epoch 37/50\n",
      "43/43 [==============================] - 7s 167ms/step - loss: 0.1213 - accuracy: 0.9569 - val_loss: 0.1408 - val_accuracy: 0.9360\n",
      "Epoch 38/50\n",
      "43/43 [==============================] - 7s 167ms/step - loss: 0.1354 - accuracy: 0.9480 - val_loss: 0.1145 - val_accuracy: 0.9585\n",
      "Epoch 39/50\n",
      "43/43 [==============================] - 7s 167ms/step - loss: 0.1227 - accuracy: 0.9525 - val_loss: 0.1954 - val_accuracy: 0.9170\n",
      "Epoch 40/50\n",
      "43/43 [==============================] - 7s 167ms/step - loss: 0.1218 - accuracy: 0.9517 - val_loss: 0.1151 - val_accuracy: 0.9533\n",
      "Epoch 41/50\n",
      "43/43 [==============================] - 7s 167ms/step - loss: 0.1156 - accuracy: 0.9540 - val_loss: 0.1008 - val_accuracy: 0.9585\n",
      "Epoch 42/50\n",
      "43/43 [==============================] - 7s 166ms/step - loss: 0.1379 - accuracy: 0.9540 - val_loss: 0.1009 - val_accuracy: 0.9567\n",
      "Epoch 43/50\n",
      "43/43 [==============================] - 7s 166ms/step - loss: 0.1222 - accuracy: 0.9577 - val_loss: 0.1102 - val_accuracy: 0.9619\n",
      "Epoch 44/50\n",
      "43/43 [==============================] - 7s 167ms/step - loss: 0.1270 - accuracy: 0.9488 - val_loss: 0.1297 - val_accuracy: 0.9533\n",
      "Epoch 45/50\n",
      "43/43 [==============================] - 7s 166ms/step - loss: 0.0964 - accuracy: 0.9636 - val_loss: 0.1142 - val_accuracy: 0.9602\n",
      "Epoch 46/50\n",
      "43/43 [==============================] - 7s 167ms/step - loss: 0.1227 - accuracy: 0.9540 - val_loss: 0.1196 - val_accuracy: 0.9602\n",
      "Epoch 47/50\n",
      "43/43 [==============================] - 7s 167ms/step - loss: 0.0998 - accuracy: 0.9599 - val_loss: 0.1467 - val_accuracy: 0.9498\n",
      "Epoch 48/50\n",
      "43/43 [==============================] - 7s 167ms/step - loss: 0.0941 - accuracy: 0.9651 - val_loss: 0.1380 - val_accuracy: 0.9619\n",
      "Epoch 49/50\n",
      "43/43 [==============================] - 7s 167ms/step - loss: 0.1059 - accuracy: 0.9577 - val_loss: 0.1333 - val_accuracy: 0.9481\n",
      "Epoch 50/50\n",
      "43/43 [==============================] - 7s 167ms/step - loss: 0.1050 - accuracy: 0.9651 - val_loss: 0.1411 - val_accuracy: 0.9481\n"
     ]
    }
   ],
   "source": [
    "history = model.fit(\n",
    "    train_generator,\n",
    "    epochs = 50,\n",
    "    validation_data = test_generator,\n",
    "    shuffle = True,\n",
    "    validation_steps = len(test_generator)\n",
    ")"
   ],
   "metadata": {
    "collapsed": false
   }
  },
  {
   "cell_type": "code",
   "execution_count": 35,
   "outputs": [
    {
     "data": {
      "text/plain": "<Figure size 640x480 with 1 Axes>",
      "image/png": "[encoded data removed]"
     },
     "metadata": {},
     "output_type": "display_data"
    },
    {
     "data": {
      "text/plain": "<Figure size 640x480 with 1 Axes>",
      "image/png": "[encoded data removed]"
     },
     "metadata": {},
     "output_type": "display_data"
    }
   ],
   "source": [
    "accuracy = history.history['accuracy']\n",
    "val_accuracy = history.history['val_accuracy']\n",
    "loss = history.history['loss']\n",
    "val_loss = history.history['val_loss']\n",
    "epochs = range(len(accuracy))\n",
    "\n",
    "plt.plot(epochs, accuracy, \"b\", label = \"training accuracy\")\n",
    "plt.plot(epochs, val_accuracy, \"r\", label = \"validation accuracy\")\n",
    "plt.legend()\n",
    "plt.show()\n",
    "\n",
    "plt.plot(epochs, loss, \"b\", label = \"training loss\")\n",
    "plt.plot(epochs, val_loss, \"r\", label = \"validation loss\")\n",
    "plt.legend()\n",
    "plt.show()"
   ],
   "metadata": {
    "collapsed": false
   }
  },
  {
   "cell_type": "code",
   "execution_count": 36,
   "outputs": [],
   "source": [
    "model.save(\"safedrivemodel3.h5\")"
   ],
   "metadata": {
    "collapsed": false
   }
  },
  {
   "cell_type": "code",
   "execution_count": 37,
   "outputs": [
    {
     "name": "stderr",
     "output_type": "stream",
     "text": [
      "WARNING:absl:Found untraced functions such as _jit_compiled_convolution_op, _jit_compiled_convolution_op, _jit_compiled_convolution_op, _jit_compiled_convolution_op while saving (showing 4 of 4). These functions will not be directly callable after loading.\n"
     ]
    },
    {
     "name": "stdout",
     "output_type": "stream",
     "text": [
      "INFO:tensorflow:Assets written to: safedrivemodel3.model\\assets\n"
     ]
    },
    {
     "name": "stderr",
     "output_type": "stream",
     "text": [
      "INFO:tensorflow:Assets written to: safedrivemodel3.model\\assets\n"
     ]
    }
   ],
   "source": [
    "model.save(\"safedrivemodel3.model\")"
   ],
   "metadata": {
    "collapsed": false
   }
  },
  {
   "cell_type": "code",
   "execution_count": 38,
   "outputs": [
    {
     "name": "stdout",
     "output_type": "stream",
     "text": [
      "19/19 [==============================] - 1s 39ms/step\n"
     ]
    }
   ],
   "source": [
    "prediction = model.predict(X_test)"
   ],
   "metadata": {
    "collapsed": false
   }
  },
  {
   "cell_type": "code",
   "execution_count": 39,
   "outputs": [],
   "source": [
    "labels_new = [\"yawn\", \"no_yawn\", \"closed_eyes\", \"open_eyes\"]"
   ],
   "metadata": {
    "collapsed": false
   }
  },
  {
   "cell_type": "code",
   "execution_count": 40,
   "outputs": [
    {
     "name": "stdout",
     "output_type": "stream",
     "text": [
      "              precision    recall  f1-score   support\n",
      "\n",
      "        yawn       0.90      0.70      0.79        63\n",
      "     no_yawn       0.80      0.93      0.86        74\n",
      " closed_eyes       0.95      0.94      0.95       215\n",
      "   open_eyes       0.94      0.96      0.95       226\n",
      "\n",
      "    accuracy                           0.92       578\n",
      "   macro avg       0.90      0.88      0.89       578\n",
      "weighted avg       0.92      0.92      0.92       578\n",
      "\n"
     ]
    }
   ],
   "source": [
    "#classification report\n",
    "from sklearn.metrics import classification_report\n",
    "print(classification_report(y_test.argmax(axis = 1), prediction.argmax(axis = 1), target_names = labels_new))"
   ],
   "metadata": {
    "collapsed": false
   }
  }
 ],
 "metadata": {
  "kernelspec": {
   "display_name": "Python 3",
   "language": "python",
   "name": "python3"
  },
  "language_info": {
   "codemirror_mode": {
    "name": "ipython",
    "version": 2
   },
   "file_extension": ".py",
   "mimetype": "text/x-python",
   "name": "python",
   "nbconvert_exporter": "python",
   "pygments_lexer": "ipython2",
   "version": "2.7.6"
  }
 },
 "nbformat": 4,
 "nbformat_minor": 0
}
