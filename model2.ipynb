{
 "cells": [
  {
   "cell_type": "code",
   "execution_count": 2,
   "metadata": {
    "collapsed": true
   },
   "outputs": [],
   "source": [
    "import numpy as np\n",
    "import os\n",
    "import cv2\n",
    "import matplotlib.pyplot as plt\n",
    "\n",
    "%matplotlib inline"
   ]
  },
  {
   "cell_type": "code",
   "execution_count": 3,
   "outputs": [],
   "source": [
    "labels = os.listdir('../NewDataset/train')"
   ],
   "metadata": {
    "collapsed": false
   }
  },
  {
   "cell_type": "code",
   "execution_count": 4,
   "outputs": [
    {
     "data": {
      "text/plain": "['closed_eyes', 'no_yawn', 'open_eyes', 'yawn']"
     },
     "execution_count": 4,
     "metadata": {},
     "output_type": "execute_result"
    }
   ],
   "source": [
    "labels"
   ],
   "metadata": {
    "collapsed": false
   }
  },
  {
   "cell_type": "code",
   "execution_count": 5,
   "outputs": [
    {
     "name": "stdout",
     "output_type": "stream",
     "text": [
      "0\n",
      "1\n"
     ]
    }
   ],
   "source": [
    "def face_for_yawn():\n",
    "    yaw_no = []\n",
    "    IMG_SIZE = 145\n",
    "    categories = [\"yawn\", \"no_yawn\"]\n",
    "\n",
    "    for category in categories:\n",
    "        path_link = os.path.join(\"../NewDataset/train\", category)\n",
    "        class_num1 = categories.index(category)\n",
    "        print(class_num1)\n",
    "\n",
    "        for image in os.listdir(path_link):\n",
    "            image_array = cv2.imread(os.path.join(path_link, image), cv2.IMREAD_COLOR)\n",
    "            face_cascade = cv2.CascadeClassifier(cv2.data.haarcascades + 'haarcascade_frontalface_default.xml')\n",
    "            faces = face_cascade.detectMultiScale(image_array, 1.3, 5)\n",
    "\n",
    "            for (x, y, w, h) in faces:\n",
    "                img = cv2.rectangle(image_array, (x, y), (x+w, y+h), (0, 255, 0), 2)\n",
    "                roi_color = img[y:y+h, x:x+w]\n",
    "                resized_array = cv2.resize(roi_color, (IMG_SIZE, IMG_SIZE))\n",
    "                yaw_no.append([resized_array, class_num1])\n",
    "\n",
    "    return yaw_no\n",
    "\n",
    "yawn_no_yawn = face_for_yawn()"
   ],
   "metadata": {
    "collapsed": false
   }
  },
  {
   "cell_type": "code",
   "execution_count": 6,
   "outputs": [
    {
     "name": "stdout",
     "output_type": "stream",
     "text": [
      "2\n",
      "3\n"
     ]
    }
   ],
   "source": [
    "def face_for_eyes():\n",
    "    eye_data = []\n",
    "    IMG_SIZE = 145\n",
    "    eye_labels = ['closed_eyes', 'open_eyes']\n",
    "\n",
    "    for label in eye_labels:\n",
    "        path = os.path.join(\"../NewDataset/train\", label)\n",
    "        class_num = eye_labels.index(label)\n",
    "        class_num +=2\n",
    "        print(class_num)\n",
    "\n",
    "        for img in os.listdir(path):\n",
    "            try:\n",
    "                img_array = cv2.imread(os.path.join(path, img), cv2.IMREAD_COLOR)\n",
    "                resized_array = cv2.resize(img_array, (IMG_SIZE, IMG_SIZE))\n",
    "                eye_data.append([resized_array, class_num])\n",
    "\n",
    "            except Exception as e:\n",
    "                print(e)\n",
    "\n",
    "    return eye_data\n",
    "\n",
    "eye_open_closed = face_for_eyes()"
   ],
   "metadata": {
    "collapsed": false
   }
  },
  {
   "cell_type": "code",
   "execution_count": 7,
   "outputs": [],
   "source": [
    "X = []\n",
    "y = []\n",
    "for features, label in yawn_no_yawn:\n",
    "    X.append(features)\n",
    "    y.append(label)\n",
    "\n",
    "for features, label in eye_open_closed:\n",
    "    X.append(features)\n",
    "    y.append(label)"
   ],
   "metadata": {
    "collapsed": false
   }
  },
  {
   "cell_type": "code",
   "execution_count": 8,
   "outputs": [],
   "source": [
    "X = np.array(X)\n",
    "X = X.reshape(-1, 145, 145, 3)"
   ],
   "metadata": {
    "collapsed": false
   }
  },
  {
   "cell_type": "code",
   "execution_count": 9,
   "outputs": [],
   "source": [
    "from sklearn.preprocessing import LabelBinarizer\n",
    "label_bin = LabelBinarizer()\n",
    "y = label_bin.fit_transform(y)"
   ],
   "metadata": {
    "collapsed": false
   }
  },
  {
   "cell_type": "code",
   "execution_count": 10,
   "outputs": [],
   "source": [
    "y = np.array(y)"
   ],
   "metadata": {
    "collapsed": false
   }
  },
  {
   "cell_type": "code",
   "execution_count": 11,
   "outputs": [],
   "source": [
    "from sklearn.model_selection import train_test_split\n",
    "seed = 42\n",
    "test_size = 0.30\n",
    "X_train, X_test, y_train, y_test = train_test_split(X, y, random_state = seed, test_size = test_size)"
   ],
   "metadata": {
    "collapsed": false
   }
  },
  {
   "cell_type": "code",
   "execution_count": 12,
   "outputs": [
    {
     "data": {
      "text/plain": "578"
     },
     "execution_count": 12,
     "metadata": {},
     "output_type": "execute_result"
    }
   ],
   "source": [
    "len(X_test)"
   ],
   "metadata": {
    "collapsed": false
   }
  },
  {
   "cell_type": "code",
   "execution_count": 13,
   "outputs": [],
   "source": [
    "from keras.layers import Dense, Flatten, Conv2D, MaxPooling2D, Dropout\n",
    "from keras.models import Sequential\n",
    "from keras.preprocessing.image import ImageDataGenerator\n",
    "import tensorflow as tf"
   ],
   "metadata": {
    "collapsed": false
   }
  },
  {
   "cell_type": "code",
   "execution_count": 14,
   "outputs": [],
   "source": [
    "train_generator = ImageDataGenerator(rescale = 1/255, zoom_range = 0.2, horizontal_flip = True, rotation_range = 30)\n",
    "test_generator = ImageDataGenerator(rescale = 1/255)\n",
    "\n",
    "train_generator = train_generator.flow(np.array(X_train), y_train, shuffle = False)\n",
    "test_generator = test_generator.flow(np.array(X_test), y_test, shuffle = False)"
   ],
   "metadata": {
    "collapsed": false
   }
  },
  {
   "cell_type": "code",
   "execution_count": 15,
   "outputs": [
    {
     "name": "stdout",
     "output_type": "stream",
     "text": [
      "Model: \"sequential\"\n",
      "_________________________________________________________________\n",
      " Layer (type)                Output Shape              Param #   \n",
      "=================================================================\n",
      " conv2d (Conv2D)             (None, 143, 143, 256)     7168      \n",
      "                                                                 \n",
      " max_pooling2d (MaxPooling2D  (None, 71, 71, 256)      0         \n",
      " )                                                               \n",
      "                                                                 \n",
      " conv2d_1 (Conv2D)           (None, 69, 69, 128)       295040    \n",
      "                                                                 \n",
      " max_pooling2d_1 (MaxPooling  (None, 34, 34, 128)      0         \n",
      " 2D)                                                             \n",
      "                                                                 \n",
      " conv2d_2 (Conv2D)           (None, 32, 32, 64)        73792     \n",
      "                                                                 \n",
      " max_pooling2d_2 (MaxPooling  (None, 16, 16, 64)       0         \n",
      " 2D)                                                             \n",
      "                                                                 \n",
      " conv2d_3 (Conv2D)           (None, 14, 14, 32)        18464     \n",
      "                                                                 \n",
      " max_pooling2d_3 (MaxPooling  (None, 7, 7, 32)         0         \n",
      " 2D)                                                             \n",
      "                                                                 \n",
      " flatten (Flatten)           (None, 1568)              0         \n",
      "                                                                 \n",
      " dropout (Dropout)           (None, 1568)              0         \n",
      "                                                                 \n",
      " dense (Dense)               (None, 64)                100416    \n",
      "                                                                 \n",
      " dense_1 (Dense)             (None, 4)                 260       \n",
      "                                                                 \n",
      "=================================================================\n",
      "Total params: 495,140\n",
      "Trainable params: 495,140\n",
      "Non-trainable params: 0\n",
      "_________________________________________________________________\n"
     ]
    }
   ],
   "source": [
    "model = Sequential()\n",
    "\n",
    "model.add(Conv2D(256, (3, 3), activation = \"relu\", input_shape = X_train.shape[1:]))\n",
    "model.add(MaxPooling2D(2, 2))\n",
    "\n",
    "model.add(Conv2D(128, (3, 3), activation = \"relu\"))\n",
    "model.add(MaxPooling2D(2, 2))\n",
    "\n",
    "model.add(Conv2D(64, (3, 3), activation = \"relu\"))\n",
    "model.add(MaxPooling2D(2, 2))\n",
    "\n",
    "model.add(Conv2D(32, (3, 3), activation = \"relu\"))\n",
    "model.add(MaxPooling2D(2, 2))\n",
    "\n",
    "model.add(Flatten())\n",
    "model.add(Dropout(0.5))\n",
    "\n",
    "model.add(Dense(64, activation = \"relu\"))\n",
    "model.add(Dense(4, activation = \"softmax\"))\n",
    "\n",
    "model.compile(loss = \"categorical_crossentropy\", metrics = [\"accuracy\"], optimizer = \"adam\")\n",
    "\n",
    "model.summary()"
   ],
   "metadata": {
    "collapsed": false
   }
  },
  {
   "cell_type": "code",
   "execution_count": 16,
   "outputs": [
    {
     "name": "stdout",
     "output_type": "stream",
     "text": [
      "Epoch 1/50\n",
      "43/43 [==============================] - 12s 191ms/step - loss: 1.0156 - accuracy: 0.5664 - val_loss: 0.4789 - val_accuracy: 0.8010\n",
      "Epoch 2/50\n",
      "43/43 [==============================] - 7s 166ms/step - loss: 0.4464 - accuracy: 0.8003 - val_loss: 0.3513 - val_accuracy: 0.8633\n",
      "Epoch 3/50\n",
      "43/43 [==============================] - 7s 166ms/step - loss: 0.3525 - accuracy: 0.8560 - val_loss: 0.3297 - val_accuracy: 0.8668\n",
      "Epoch 4/50\n",
      "43/43 [==============================] - 7s 166ms/step - loss: 0.3392 - accuracy: 0.8612 - val_loss: 0.2348 - val_accuracy: 0.9014\n",
      "Epoch 5/50\n",
      "43/43 [==============================] - 7s 166ms/step - loss: 0.2705 - accuracy: 0.8879 - val_loss: 0.2429 - val_accuracy: 0.8945\n",
      "Epoch 6/50\n",
      "43/43 [==============================] - 7s 166ms/step - loss: 0.2636 - accuracy: 0.8820 - val_loss: 0.2385 - val_accuracy: 0.9031\n",
      "Epoch 7/50\n",
      "43/43 [==============================] - 7s 166ms/step - loss: 0.2680 - accuracy: 0.8924 - val_loss: 0.2255 - val_accuracy: 0.9083\n",
      "Epoch 8/50\n",
      "43/43 [==============================] - 7s 166ms/step - loss: 0.2324 - accuracy: 0.9027 - val_loss: 0.2147 - val_accuracy: 0.9135\n",
      "Epoch 9/50\n",
      "43/43 [==============================] - 7s 166ms/step - loss: 0.1980 - accuracy: 0.9146 - val_loss: 0.1691 - val_accuracy: 0.9239\n",
      "Epoch 10/50\n",
      "43/43 [==============================] - 7s 166ms/step - loss: 0.2027 - accuracy: 0.9146 - val_loss: 0.1953 - val_accuracy: 0.9118\n",
      "Epoch 11/50\n",
      "43/43 [==============================] - 7s 166ms/step - loss: 0.1952 - accuracy: 0.9154 - val_loss: 0.2048 - val_accuracy: 0.9135\n",
      "Epoch 12/50\n",
      "43/43 [==============================] - 7s 166ms/step - loss: 0.2147 - accuracy: 0.9131 - val_loss: 0.1858 - val_accuracy: 0.9291\n",
      "Epoch 13/50\n",
      "43/43 [==============================] - 7s 166ms/step - loss: 0.2038 - accuracy: 0.9131 - val_loss: 0.1670 - val_accuracy: 0.9360\n",
      "Epoch 14/50\n",
      "43/43 [==============================] - 7s 166ms/step - loss: 0.1889 - accuracy: 0.9191 - val_loss: 0.1757 - val_accuracy: 0.9221\n",
      "Epoch 15/50\n",
      "43/43 [==============================] - 7s 166ms/step - loss: 0.1728 - accuracy: 0.9302 - val_loss: 0.1833 - val_accuracy: 0.9204\n",
      "Epoch 16/50\n",
      "43/43 [==============================] - 7s 166ms/step - loss: 0.1800 - accuracy: 0.9258 - val_loss: 0.1695 - val_accuracy: 0.9429\n",
      "Epoch 17/50\n",
      "43/43 [==============================] - 7s 166ms/step - loss: 0.1702 - accuracy: 0.9198 - val_loss: 0.2069 - val_accuracy: 0.9239\n",
      "Epoch 18/50\n",
      "43/43 [==============================] - 7s 167ms/step - loss: 0.1801 - accuracy: 0.9272 - val_loss: 0.1450 - val_accuracy: 0.9464\n",
      "Epoch 19/50\n",
      "43/43 [==============================] - 7s 166ms/step - loss: 0.1721 - accuracy: 0.9302 - val_loss: 0.1252 - val_accuracy: 0.9481\n",
      "Epoch 20/50\n",
      "43/43 [==============================] - 7s 166ms/step - loss: 0.1678 - accuracy: 0.9369 - val_loss: 0.1512 - val_accuracy: 0.9533\n",
      "Epoch 21/50\n",
      "43/43 [==============================] - 7s 166ms/step - loss: 0.1672 - accuracy: 0.9354 - val_loss: 0.1237 - val_accuracy: 0.9498\n",
      "Epoch 22/50\n",
      "43/43 [==============================] - 7s 166ms/step - loss: 0.1398 - accuracy: 0.9436 - val_loss: 0.1361 - val_accuracy: 0.9412\n",
      "Epoch 23/50\n",
      "43/43 [==============================] - 7s 166ms/step - loss: 0.1407 - accuracy: 0.9421 - val_loss: 0.1230 - val_accuracy: 0.9464\n",
      "Epoch 24/50\n",
      "43/43 [==============================] - 7s 166ms/step - loss: 0.1354 - accuracy: 0.9451 - val_loss: 0.1229 - val_accuracy: 0.9516\n",
      "Epoch 25/50\n",
      "43/43 [==============================] - 7s 166ms/step - loss: 0.1382 - accuracy: 0.9406 - val_loss: 0.1104 - val_accuracy: 0.9619\n",
      "Epoch 26/50\n",
      "43/43 [==============================] - 7s 166ms/step - loss: 0.1168 - accuracy: 0.9510 - val_loss: 0.1114 - val_accuracy: 0.9516\n",
      "Epoch 27/50\n",
      "43/43 [==============================] - 7s 167ms/step - loss: 0.1216 - accuracy: 0.9495 - val_loss: 0.1401 - val_accuracy: 0.9516\n",
      "Epoch 28/50\n",
      "43/43 [==============================] - 7s 166ms/step - loss: 0.1055 - accuracy: 0.9562 - val_loss: 0.1226 - val_accuracy: 0.9550\n",
      "Epoch 29/50\n",
      "43/43 [==============================] - 7s 166ms/step - loss: 0.1938 - accuracy: 0.9302 - val_loss: 0.1392 - val_accuracy: 0.9429\n",
      "Epoch 30/50\n",
      "43/43 [==============================] - 7s 166ms/step - loss: 0.1330 - accuracy: 0.9480 - val_loss: 0.1639 - val_accuracy: 0.9481\n",
      "Epoch 31/50\n",
      "43/43 [==============================] - 7s 166ms/step - loss: 0.1317 - accuracy: 0.9473 - val_loss: 0.1260 - val_accuracy: 0.9619\n",
      "Epoch 32/50\n",
      "43/43 [==============================] - 7s 166ms/step - loss: 0.1307 - accuracy: 0.9495 - val_loss: 0.1195 - val_accuracy: 0.9550\n",
      "Epoch 33/50\n",
      "43/43 [==============================] - 7s 166ms/step - loss: 0.1029 - accuracy: 0.9659 - val_loss: 0.1503 - val_accuracy: 0.9481\n",
      "Epoch 34/50\n",
      "43/43 [==============================] - 7s 166ms/step - loss: 0.1209 - accuracy: 0.9569 - val_loss: 0.1022 - val_accuracy: 0.9533\n",
      "Epoch 35/50\n",
      "43/43 [==============================] - 7s 165ms/step - loss: 0.1013 - accuracy: 0.9569 - val_loss: 0.1478 - val_accuracy: 0.9516\n",
      "Epoch 36/50\n",
      "43/43 [==============================] - 7s 166ms/step - loss: 0.1076 - accuracy: 0.9584 - val_loss: 0.1679 - val_accuracy: 0.9464\n",
      "Epoch 37/50\n",
      "43/43 [==============================] - 7s 166ms/step - loss: 0.1116 - accuracy: 0.9532 - val_loss: 0.1186 - val_accuracy: 0.9567\n",
      "Epoch 38/50\n",
      "43/43 [==============================] - 7s 166ms/step - loss: 0.1180 - accuracy: 0.9488 - val_loss: 0.1455 - val_accuracy: 0.9602\n",
      "Epoch 39/50\n",
      "43/43 [==============================] - 7s 166ms/step - loss: 0.1250 - accuracy: 0.9495 - val_loss: 0.0926 - val_accuracy: 0.9602\n",
      "Epoch 40/50\n",
      "43/43 [==============================] - 7s 166ms/step - loss: 0.0946 - accuracy: 0.9644 - val_loss: 0.0899 - val_accuracy: 0.9585\n",
      "Epoch 41/50\n",
      "43/43 [==============================] - 7s 166ms/step - loss: 0.1148 - accuracy: 0.9599 - val_loss: 0.0952 - val_accuracy: 0.9637\n",
      "Epoch 42/50\n",
      "43/43 [==============================] - 7s 166ms/step - loss: 0.1176 - accuracy: 0.9495 - val_loss: 0.0845 - val_accuracy: 0.9671\n",
      "Epoch 43/50\n",
      "43/43 [==============================] - 7s 166ms/step - loss: 0.0948 - accuracy: 0.9681 - val_loss: 0.1040 - val_accuracy: 0.9671\n",
      "Epoch 44/50\n",
      "43/43 [==============================] - 7s 169ms/step - loss: 0.0853 - accuracy: 0.9666 - val_loss: 0.1206 - val_accuracy: 0.9498\n",
      "Epoch 45/50\n",
      "43/43 [==============================] - 7s 166ms/step - loss: 0.0900 - accuracy: 0.9644 - val_loss: 0.0954 - val_accuracy: 0.9706\n",
      "Epoch 46/50\n",
      "43/43 [==============================] - 7s 166ms/step - loss: 0.0805 - accuracy: 0.9614 - val_loss: 0.0859 - val_accuracy: 0.9689\n",
      "Epoch 47/50\n",
      "43/43 [==============================] - 7s 166ms/step - loss: 0.0920 - accuracy: 0.9599 - val_loss: 0.0882 - val_accuracy: 0.9671\n",
      "Epoch 48/50\n",
      "43/43 [==============================] - 7s 166ms/step - loss: 0.0908 - accuracy: 0.9636 - val_loss: 0.1030 - val_accuracy: 0.9706\n",
      "Epoch 49/50\n",
      "43/43 [==============================] - 7s 166ms/step - loss: 0.0785 - accuracy: 0.9718 - val_loss: 0.0977 - val_accuracy: 0.9689\n",
      "Epoch 50/50\n",
      "43/43 [==============================] - 7s 166ms/step - loss: 0.1122 - accuracy: 0.9621 - val_loss: 0.1018 - val_accuracy: 0.9671\n"
     ]
    }
   ],
   "source": [
    "history = model.fit(train_generator, epochs = 50, validation_data = test_generator, shuffle = True, validation_steps = len(test_generator))"
   ],
   "metadata": {
    "collapsed": false
   }
  },
  {
   "cell_type": "code",
   "execution_count": 17,
   "outputs": [
    {
     "data": {
      "text/plain": "<Figure size 640x480 with 1 Axes>",
      "image/png": "[encoded data removed]"
     },
     "metadata": {},
     "output_type": "display_data"
    },
    {
     "data": {
      "text/plain": "<Figure size 640x480 with 1 Axes>",
      "image/png": "[encoded data removed]"
     },
     "metadata": {},
     "output_type": "display_data"
    }
   ],
   "source": [
    "accuracy = history.history['accuracy']\n",
    "val_accuracy = history.history['val_accuracy']\n",
    "loss = history.history['loss']\n",
    "val_loss = history.history['val_loss']\n",
    "epochs = range(len(accuracy))\n",
    "\n",
    "plt.plot(epochs, accuracy, \"b\", label=\"training accuracy\")\n",
    "plt.plot(epochs, val_accuracy, \"r\", label=\"validation accuracy\")\n",
    "plt.legend()\n",
    "plt.show()\n",
    "\n",
    "plt.plot(epochs, loss, \"b\", label=\"training loss\")\n",
    "plt.plot(epochs, val_loss, \"r\", label=\"validation loss\")\n",
    "plt.legend()\n",
    "plt.show()"
   ],
   "metadata": {
    "collapsed": false
   }
  },
  {
   "cell_type": "code",
   "execution_count": 18,
   "outputs": [],
   "source": [
    "model.save(\"safedrivemodel.h5\")"
   ],
   "metadata": {
    "collapsed": false
   }
  },
  {
   "cell_type": "code",
   "execution_count": 19,
   "outputs": [
    {
     "name": "stderr",
     "output_type": "stream",
     "text": [
      "WARNING:absl:Found untraced functions such as _jit_compiled_convolution_op, _jit_compiled_convolution_op, _jit_compiled_convolution_op, _jit_compiled_convolution_op while saving (showing 4 of 4). These functions will not be directly callable after loading.\n"
     ]
    },
    {
     "name": "stdout",
     "output_type": "stream",
     "text": [
      "INFO:tensorflow:Assets written to: safedrivemodel.model\\assets\n"
     ]
    },
    {
     "name": "stderr",
     "output_type": "stream",
     "text": [
      "INFO:tensorflow:Assets written to: safedrivemodel.model\\assets\n"
     ]
    }
   ],
   "source": [
    "model.save(\"safedrivemodel.model\")"
   ],
   "metadata": {
    "collapsed": false
   }
  },
  {
   "cell_type": "code",
   "execution_count": 20,
   "outputs": [
    {
     "name": "stdout",
     "output_type": "stream",
     "text": [
      "19/19 [==============================] - 1s 38ms/step\n"
     ]
    }
   ],
   "source": [
    "prediction = model.predict(X_test)"
   ],
   "metadata": {
    "collapsed": false
   }
  },
  {
   "cell_type": "code",
   "execution_count": 21,
   "outputs": [],
   "source": [
    "labels_new = [\"yawn\", \"no_yawn\", \"closed_eyes\", \"open_eyes\"]"
   ],
   "metadata": {
    "collapsed": false
   }
  },
  {
   "cell_type": "code",
   "execution_count": 22,
   "outputs": [
    {
     "name": "stdout",
     "output_type": "stream",
     "text": [
      "              precision    recall  f1-score   support\n",
      "\n",
      "        yawn       0.88      0.90      0.89        63\n",
      "     no_yawn       0.92      0.88      0.90        74\n",
      " closed_eyes       0.96      0.98      0.97       215\n",
      "   open_eyes       0.98      0.96      0.97       226\n",
      "\n",
      "    accuracy                           0.95       578\n",
      "   macro avg       0.93      0.93      0.93       578\n",
      "weighted avg       0.95      0.95      0.95       578\n",
      "\n"
     ]
    }
   ],
   "source": [
    "#classification report\n",
    "from sklearn.metrics import classification_report\n",
    "print(classification_report(y_test.argmax(axis=1), prediction.argmax(axis=1), target_names=labels_new))"
   ],
   "metadata": {
    "collapsed": false
   }
  },
  {
   "cell_type": "code",
   "execution_count": 23,
   "outputs": [],
   "source": [
    "labels_new = [\"yawn\", \"no_yawn\", \"closed_eyes\", \"open_eyes\"]\n",
    "IMG_SIZE = 145\n",
    "def prepare(filepath):\n",
    "    img_array = cv2.imread(filepath, cv2.IMREAD_COLOR)\n",
    "    img_array = img_array / 255\n",
    "    resized_array = cv2.resize(img_array, (IMG_SIZE, IMG_SIZE))\n",
    "    return resized_array.reshape(-1, IMG_SIZE, IMG_SIZE, 3)\n",
    "\n",
    "model = tf.keras.models.load_model(\"./safedrivemodel.h5\")"
   ],
   "metadata": {
    "collapsed": false
   }
  },
  {
   "cell_type": "code",
   "execution_count": 24,
   "outputs": [
    {
     "name": "stdout",
     "output_type": "stream",
     "text": [
      "1/1 [==============================] - 0s 310ms/step\n"
     ]
    },
    {
     "data": {
      "text/plain": "0"
     },
     "execution_count": 24,
     "metadata": {},
     "output_type": "execute_result"
    }
   ],
   "source": [
    "prediction = model.predict([prepare(\"../NewDataset/train/no_yawn/1067.jpg\")])\n",
    "np.argmax(prediction)"
   ],
   "metadata": {
    "collapsed": false
   }
  },
  {
   "cell_type": "code",
   "execution_count": 25,
   "outputs": [
    {
     "name": "stdout",
     "output_type": "stream",
     "text": [
      "1/1 [==============================] - 0s 23ms/step\n"
     ]
    },
    {
     "data": {
      "text/plain": "2"
     },
     "execution_count": 25,
     "metadata": {},
     "output_type": "execute_result"
    }
   ],
   "source": [
    "prediction = model.predict([prepare(\"../NewDataset/train/closed_eyes/_23.jpg\")])\n",
    "np.argmax(prediction)"
   ],
   "metadata": {
    "collapsed": false
   }
  },
  {
   "cell_type": "code",
   "execution_count": 26,
   "outputs": [
    {
     "ename": "TypeError",
     "evalue": "unsupported operand type(s) for /: 'NoneType' and 'int'",
     "output_type": "error",
     "traceback": [
      "\u001B[1;31m---------------------------------------------------------------------------\u001B[0m",
      "\u001B[1;31mTypeError\u001B[0m                                 Traceback (most recent call last)",
      "Cell \u001B[1;32mIn[26], line 1\u001B[0m\n\u001B[1;32m----> 1\u001B[0m prediction \u001B[38;5;241m=\u001B[39m model\u001B[38;5;241m.\u001B[39mpredict([\u001B[43mprepare\u001B[49m\u001B[43m(\u001B[49m\u001B[38;5;124;43m\"\u001B[39;49m\u001B[38;5;124;43m../NewDataset/train/no_yawn/100.jpg\u001B[39;49m\u001B[38;5;124;43m\"\u001B[39;49m\u001B[43m)\u001B[49m])\n\u001B[0;32m      2\u001B[0m np\u001B[38;5;241m.\u001B[39margmax(prediction)\n",
      "Cell \u001B[1;32mIn[23], line 5\u001B[0m, in \u001B[0;36mprepare\u001B[1;34m(filepath)\u001B[0m\n\u001B[0;32m      3\u001B[0m \u001B[38;5;28;01mdef\u001B[39;00m \u001B[38;5;21mprepare\u001B[39m(filepath):\n\u001B[0;32m      4\u001B[0m     img_array \u001B[38;5;241m=\u001B[39m cv2\u001B[38;5;241m.\u001B[39mimread(filepath, cv2\u001B[38;5;241m.\u001B[39mIMREAD_COLOR)\n\u001B[1;32m----> 5\u001B[0m     img_array \u001B[38;5;241m=\u001B[39m \u001B[43mimg_array\u001B[49m\u001B[43m \u001B[49m\u001B[38;5;241;43m/\u001B[39;49m\u001B[43m \u001B[49m\u001B[38;5;241;43m255\u001B[39;49m\n\u001B[0;32m      6\u001B[0m     resized_array \u001B[38;5;241m=\u001B[39m cv2\u001B[38;5;241m.\u001B[39mresize(img_array, (IMG_SIZE, IMG_SIZE))\n\u001B[0;32m      7\u001B[0m     \u001B[38;5;28;01mreturn\u001B[39;00m resized_array\u001B[38;5;241m.\u001B[39mreshape(\u001B[38;5;241m-\u001B[39m\u001B[38;5;241m1\u001B[39m, IMG_SIZE, IMG_SIZE, \u001B[38;5;241m3\u001B[39m)\n",
      "\u001B[1;31mTypeError\u001B[0m: unsupported operand type(s) for /: 'NoneType' and 'int'"
     ]
    }
   ],
   "source": [
    "prediction = model.predict([prepare(\"../NewDataset/train/no_yawn/100.jpg\")])\n",
    "np.argmax(prediction)"
   ],
   "metadata": {
    "collapsed": false
   }
  },
  {
   "cell_type": "code",
   "execution_count": 27,
   "outputs": [
    {
     "name": "stdout",
     "output_type": "stream",
     "text": [
      "1/1 [==============================] - 0s 17ms/step\n"
     ]
    },
    {
     "data": {
      "text/plain": "3"
     },
     "execution_count": 27,
     "metadata": {},
     "output_type": "execute_result"
    }
   ],
   "source": [
    "prediction = model.predict([prepare(\"../NewDataset/train/yawn/100.jpg\")])\n",
    "np.argmax(prediction)"
   ],
   "metadata": {
    "collapsed": false
   }
  },
  {
   "cell_type": "code",
   "execution_count": 28,
   "outputs": [
    {
     "name": "stdout",
     "output_type": "stream",
     "text": [
      "1/1 [==============================] - 0s 20ms/step\n"
     ]
    },
    {
     "data": {
      "text/plain": "3"
     },
     "execution_count": 28,
     "metadata": {},
     "output_type": "execute_result"
    }
   ],
   "source": [
    "prediction = model.predict([prepare(\"../NewDataset/train/open_eyes/_100.jpg\")])\n",
    "np.argmax(prediction)"
   ],
   "metadata": {
    "collapsed": false
   }
  },
  {
   "cell_type": "code",
   "execution_count": 29,
   "outputs": [
    {
     "name": "stdout",
     "output_type": "stream",
     "text": [
      "1/1 [==============================] - 0s 17ms/step\n"
     ]
    },
    {
     "data": {
      "text/plain": "2"
     },
     "execution_count": 29,
     "metadata": {},
     "output_type": "execute_result"
    }
   ],
   "source": [
    "prediction = model.predict([prepare(\"../NewDataset/train/yawn/23.jpg\")])\n",
    "np.argmax(prediction)"
   ],
   "metadata": {
    "collapsed": false
   }
  },
  {
   "cell_type": "code",
   "execution_count": 30,
   "outputs": [
    {
     "name": "stdout",
     "output_type": "stream",
     "text": [
      "1/1 [==============================] - 0s 17ms/step\n"
     ]
    },
    {
     "data": {
      "text/plain": "3"
     },
     "execution_count": 30,
     "metadata": {},
     "output_type": "execute_result"
    }
   ],
   "source": [
    "prediction = model.predict([prepare(\"../NewDataset/train/open_eyes/_23.jpg\")])\n",
    "np.argmax(prediction)"
   ],
   "metadata": {
    "collapsed": false
   }
  },
  {
   "cell_type": "code",
   "execution_count": 31,
   "outputs": [
    {
     "name": "stdout",
     "output_type": "stream",
     "text": [
      "1/1 [==============================] - 0s 17ms/step\n"
     ]
    },
    {
     "data": {
      "text/plain": "3"
     },
     "execution_count": 31,
     "metadata": {},
     "output_type": "execute_result"
    }
   ],
   "source": [
    "prediction = model.predict([prepare(\"C:\\\\Users\\\\Akindu\\\\Pictures\\\\Camera Roll\\\\WIN_20230204_21_27_00_Pro.jpg\")])\n",
    "np.argmax(prediction)"
   ],
   "metadata": {
    "collapsed": false
   }
  },
  {
   "cell_type": "code",
   "execution_count": 32,
   "outputs": [
    {
     "name": "stdout",
     "output_type": "stream",
     "text": [
      "1/1 [==============================] - 0s 18ms/step\n"
     ]
    },
    {
     "data": {
      "text/plain": "3"
     },
     "execution_count": 32,
     "metadata": {},
     "output_type": "execute_result"
    }
   ],
   "source": [
    "prediction = model.predict([prepare(\"C:\\\\Users\\\\Akindu\\\\Pictures\\\\Camera Roll\\\\WIN_20230204_21_27_00_Pro.jpg\")])\n",
    "np.argmax(prediction)"
   ],
   "metadata": {
    "collapsed": false
   }
  },
  {
   "cell_type": "code",
   "execution_count": 33,
   "outputs": [
    {
     "name": "stdout",
     "output_type": "stream",
     "text": [
      "1/1 [==============================] - 0s 17ms/step\n"
     ]
    },
    {
     "data": {
      "text/plain": "3"
     },
     "execution_count": 33,
     "metadata": {},
     "output_type": "execute_result"
    }
   ],
   "source": [
    "prediction = model.predict([prepare(\"C:\\\\Users\\\\Akindu\\\\Pictures\\\\Camera Roll\\\\WIN_20230204_21_27_00_Pro.jpg\")])\n",
    "np.argmax(prediction)"
   ],
   "metadata": {
    "collapsed": false
   }
  },
  {
   "cell_type": "code",
   "execution_count": 34,
   "outputs": [
    {
     "name": "stdout",
     "output_type": "stream",
     "text": [
      "1/1 [==============================] - 0s 20ms/step\n"
     ]
    },
    {
     "data": {
      "text/plain": "3"
     },
     "execution_count": 34,
     "metadata": {},
     "output_type": "execute_result"
    }
   ],
   "source": [
    "prediction = model.predict([prepare(\"C:\\\\Users\\\\Akindu\\\\Pictures\\\\Camera Roll\\\\WIN_20230204_21_27_00_Pro.jpg\")])\n",
    "np.argmax(prediction)"
   ],
   "metadata": {
    "collapsed": false
   }
  },
  {
   "cell_type": "code",
   "execution_count": 35,
   "outputs": [
    {
     "name": "stdout",
     "output_type": "stream",
     "text": [
      "1/1 [==============================] - 0s 20ms/step\n"
     ]
    },
    {
     "data": {
      "text/plain": "3"
     },
     "execution_count": 35,
     "metadata": {},
     "output_type": "execute_result"
    }
   ],
   "source": [
    "prediction = model.predict([prepare(\"C:\\\\Users\\\\Akindu\\\\Pictures\\\\Camera Roll\\\\WIN_20230204_21_26_58_Pro.jpg\")])\n",
    "np.argmax(prediction)"
   ],
   "metadata": {
    "collapsed": false
   }
  },
  {
   "cell_type": "code",
   "execution_count": 36,
   "outputs": [
    {
     "name": "stdout",
     "output_type": "stream",
     "text": [
      "1/1 [==============================] - 0s 26ms/step\n"
     ]
    },
    {
     "data": {
      "text/plain": "3"
     },
     "execution_count": 36,
     "metadata": {},
     "output_type": "execute_result"
    }
   ],
   "source": [
    "prediction = model.predict([prepare(\"C:\\\\Users\\\\Akindu\\\\Pictures\\\\Camera Roll\\\\WIN_20230204_21_27_00_Pro.jpg\")])\n",
    "np.argmax(prediction)"
   ],
   "metadata": {
    "collapsed": false
   }
  },
  {
   "cell_type": "code",
   "execution_count": 37,
   "outputs": [
    {
     "name": "stdout",
     "output_type": "stream",
     "text": [
      "1/1 [==============================] - 0s 17ms/step\n"
     ]
    },
    {
     "data": {
      "text/plain": "3"
     },
     "execution_count": 37,
     "metadata": {},
     "output_type": "execute_result"
    }
   ],
   "source": [
    "prediction = model.predict([prepare(\"C:\\\\Users\\\\Akindu\\\\Pictures\\\\Camera Roll\\\\WIN_20230204_21_27_05_Pro.jpg\")])\n",
    "np.argmax(prediction)"
   ],
   "metadata": {
    "collapsed": false
   }
  }
 ],
 "metadata": {
  "kernelspec": {
   "display_name": "Python 3",
   "language": "python",
   "name": "python3"
  },
  "language_info": {
   "codemirror_mode": {
    "name": "ipython",
    "version": 2
   },
   "file_extension": ".py",
   "mimetype": "text/x-python",
   "name": "python",
   "nbconvert_exporter": "python",
   "pygments_lexer": "ipython2",
   "version": "2.7.6"
  }
 },
 "nbformat": 4,
 "nbformat_minor": 0
}
