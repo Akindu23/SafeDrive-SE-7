{
 "cells": [
  {
   "cell_type": "code",
   "execution_count": 3,
   "metadata": {
    "collapsed": true
   },
   "outputs": [],
   "source": [
    "import hashlib\n",
    "import os\n",
    "pathToDataset = \"C:/Users/dinet/testing/oaceset/open\"\n"
   ]
  },
  {
   "cell_type": "code",
   "execution_count": 4,
   "outputs": [],
   "source": [
    "hashes = set()\n",
    "\n",
    "for filename in os.listdir(pathToDataset):\n",
    "    path = os.path.join(pathToDataset, filename)\n",
    "    digest = hashlib.sha1(open(path,'rb').read()).digest()\n",
    "    if digest not in hashes:\n",
    "        hashes.add(digest)\n",
    "    else:\n",
    "        os.remove(path)"
   ],
   "metadata": {
    "collapsed": false
   }
  }
 ],
 "metadata": {
  "kernelspec": {
   "display_name": "Python 3",
   "language": "python",
   "name": "python3"
  },
  "language_info": {
   "codemirror_mode": {
    "name": "ipython",
    "version": 2
   },
   "file_extension": ".py",
   "mimetype": "text/x-python",
   "name": "python",
   "nbconvert_exporter": "python",
   "pygments_lexer": "ipython2",
   "version": "2.7.6"
  }
 },
 "nbformat": 4,
 "nbformat_minor": 0
}
